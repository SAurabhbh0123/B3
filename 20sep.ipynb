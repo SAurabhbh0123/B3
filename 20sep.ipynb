{
 "cells": [
  {
   "cell_type": "code",
   "execution_count": 15,
   "id": "81e94407-cc58-4c13-abc6-026de4e3d3cd",
   "metadata": {
    "tags": []
   },
   "outputs": [],
   "source": [
    "file = open(\"hello.txt\",\"w\")\n",
    "file.write(\"hello,this is a test.\")\n",
    "file.close()"
   ]
  },
  {
   "cell_type": "code",
   "execution_count": 28,
   "id": "f5d41c4d-b56d-4bc6-83bb-53f602ee97ee",
   "metadata": {
    "tags": []
   },
   "outputs": [],
   "source": [
    "file = open(\"hello.txt\",\"w\")\n",
    "dataString = \"Some dummy text data\"\n",
    "filecontent = file.write(dataString)\n",
    "file.close()"
   ]
  },
  {
   "cell_type": "code",
   "execution_count": 31,
   "id": "0f9f8db2-3544-4a6a-aeb1-64e0f6629188",
   "metadata": {
    "tags": []
   },
   "outputs": [
    {
     "name": "stdout",
     "output_type": "stream",
     "text": [
      "['Some', 'dummy', 'text', 'data']\n"
     ]
    }
   ],
   "source": [
    "file = open(\"hello.txt\",\"w\")\n",
    "dataString = \"Some dummy text data\".split()\n",
    "print(dataString)\n",
    "filecontent = file.writelines(dataString)\n",
    "file.close()"
   ]
  },
  {
   "cell_type": "code",
   "execution_count": 35,
   "id": "81e5da57-313d-414d-a2b2-f72020f1c028",
   "metadata": {
    "tags": []
   },
   "outputs": [
    {
     "name": "stdout",
     "output_type": "stream",
     "text": [
      "Somedummytextdata\n"
     ]
    }
   ],
   "source": [
    "file = open(\"hello.txt\",\"r\")\n",
    "#create file handle to read\n",
    "filecontent = file.read()\n",
    "print(filecontent)\n",
    "file.close() # save and close file"
   ]
  },
  {
   "cell_type": "code",
   "execution_count": null,
   "id": "64076991-3e87-457a-bb9f-f9d697123d89",
   "metadata": {},
   "outputs": [],
   "source": []
  }
 ],
 "metadata": {
  "kernelspec": {
   "display_name": "Python 3 (ipykernel)",
   "language": "python",
   "name": "python3"
  },
  "language_info": {
   "codemirror_mode": {
    "name": "ipython",
    "version": 3
   },
   "file_extension": ".py",
   "mimetype": "text/x-python",
   "name": "python",
   "nbconvert_exporter": "python",
   "pygments_lexer": "ipython3",
   "version": "3.11.7"
  }
 },
 "nbformat": 4,
 "nbformat_minor": 5
}
