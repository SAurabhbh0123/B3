{
 "cells": [
  {
   "cell_type": "code",
   "execution_count": 2,
   "id": "e8c5f2ec-bab0-4b09-ad2a-f385f1f847af",
   "metadata": {
    "tags": []
   },
   "outputs": [
    {
     "name": "stdout",
     "output_type": "stream",
     "text": [
      "hello world\n",
      "<class 'str'>\n",
      "1571766546800\n"
     ]
    }
   ],
   "source": [
    "str1=\"hello world\"\n",
    "print(str1)\n",
    "print(type(str1))\n",
    "print(id(str1))"
   ]
  },
  {
   "cell_type": "code",
   "execution_count": 7,
   "id": "c2ce2331-7255-49df-8281-42575d47c139",
   "metadata": {
    "tags": []
   },
   "outputs": [
    {
     "data": {
      "text/plain": [
       "'hi world'"
      ]
     },
     "execution_count": 7,
     "metadata": {},
     "output_type": "execute_result"
    }
   ],
   "source": [
    "str1.replace(\"hello\",\"hi\")"
   ]
  },
  {
   "cell_type": "code",
   "execution_count": 10,
   "id": "f3148fe5-733c-4abc-9988-33da20abe022",
   "metadata": {
    "tags": []
   },
   "outputs": [
    {
     "name": "stdout",
     "output_type": "stream",
     "text": [
      "hi world\n",
      "<class 'str'>\n",
      "1571766625840\n"
     ]
    }
   ],
   "source": [
    "print(str1)\n",
    "print(type(str1))\n",
    "print(id(str1))"
   ]
  },
  {
   "cell_type": "code",
   "execution_count": 12,
   "id": "a504fe0f-c565-4871-bb8e-1de5064352a5",
   "metadata": {
    "tags": []
   },
   "outputs": [
    {
     "data": {
      "text/plain": [
       "5.0"
      ]
     },
     "execution_count": 12,
     "metadata": {},
     "output_type": "execute_result"
    }
   ],
   "source": [
    "float(int(10/2))"
   ]
  },
  {
   "cell_type": "code",
   "execution_count": 16,
   "id": "07d8ad7f-520c-4b47-a532-8ba3d2ab741d",
   "metadata": {
    "tags": []
   },
   "outputs": [
    {
     "data": {
      "text/plain": [
       "True"
      ]
     },
     "execution_count": 16,
     "metadata": {},
     "output_type": "execute_result"
    }
   ],
   "source": [
    "bool(-1)"
   ]
  },
  {
   "cell_type": "code",
   "execution_count": 18,
   "id": "a499a08e-e3f7-4659-b9fc-ebceab0032b1",
   "metadata": {
    "tags": []
   },
   "outputs": [
    {
     "name": "stdin",
     "output_type": "stream",
     "text": [
      "Enter your name:  Saurabh\n"
     ]
    }
   ],
   "source": [
    "name = input(\"Enter your name: \")"
   ]
  },
  {
   "cell_type": "code",
   "execution_count": 20,
   "id": "2d2b5a9c-7992-4fc9-83d5-aa48babe0364",
   "metadata": {
    "tags": []
   },
   "outputs": [
    {
     "data": {
      "text/plain": [
       "'Saurabh'"
      ]
     },
     "execution_count": 20,
     "metadata": {},
     "output_type": "execute_result"
    }
   ],
   "source": [
    "name"
   ]
  },
  {
   "cell_type": "code",
   "execution_count": 28,
   "id": "10c60450-b1b7-44da-8a4d-0987e396daa2",
   "metadata": {
    "tags": []
   },
   "outputs": [],
   "source": [
    "import sys"
   ]
  },
  {
   "cell_type": "code",
   "execution_count": 32,
   "id": "3af57c16-2663-411b-a0b7-fa4014f5b3dd",
   "metadata": {
    "tags": []
   },
   "outputs": [
    {
     "name": "stdout",
     "output_type": "stream",
     "text": [
      "56\n"
     ]
    }
   ],
   "source": [
    "print(sys.getsizeof(name))"
   ]
  },
  {
   "cell_type": "code",
   "execution_count": 35,
   "id": "c3921137-5f74-4bf1-855d-8ea5e86ae013",
   "metadata": {
    "tags": []
   },
   "outputs": [],
   "source": [
    "#basic syntax of function\n",
    "\n",
    "def myprint(testvar):\n",
    "    print(f\"value is {testvar}\")\n",
    "    print(f\"id is {id(testvar)}\")\n",
    "    print(f\"type is {type(testvar)}\")"
   ]
  },
  {
   "cell_type": "code",
   "execution_count": null,
   "id": "fa88d280-d4f7-4385-b04d-05bca32015a1",
   "metadata": {},
   "outputs": [],
   "source": []
  }
 ],
 "metadata": {
  "kernelspec": {
   "display_name": "Python 3 (ipykernel)",
   "language": "python",
   "name": "python3"
  },
  "language_info": {
   "codemirror_mode": {
    "name": "ipython",
    "version": 3
   },
   "file_extension": ".py",
   "mimetype": "text/x-python",
   "name": "python",
   "nbconvert_exporter": "python",
   "pygments_lexer": "ipython3",
   "version": "3.11.7"
  }
 },
 "nbformat": 4,
 "nbformat_minor": 5
}
