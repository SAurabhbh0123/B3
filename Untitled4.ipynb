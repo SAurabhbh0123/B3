{
 "cells": [
  {
   "cell_type": "code",
   "execution_count": 4,
   "id": "2b5fcfcd-a474-4dd6-9b17-8becfb18b4a2",
   "metadata": {
    "tags": []
   },
   "outputs": [
    {
     "name": "stdout",
     "output_type": "stream",
     "text": [
      "value of 10\n"
     ]
    }
   ],
   "source": [
    "# try catch in python for error handling\n",
    "# print(f\"value of {a}\")\n",
    "a = 10\n",
    "try:\n",
    "    print(f\"value of {a}\")\n",
    "except:\n",
    "    print(f\"Value of a does not exist\")"
   ]
  },
  {
   "cell_type": "code",
   "execution_count": 6,
   "id": "4711eb17-9284-44da-9adf-ef45e1d4efc0",
   "metadata": {
    "tags": []
   },
   "outputs": [
    {
     "name": "stdout",
     "output_type": "stream",
     "text": [
      "assertion is false\n"
     ]
    }
   ],
   "source": [
    "a=10 \n",
    "b=20\n",
    "try:\n",
    "    assert a > b\n",
    "    print(\"assertion is true\")\n",
    "except:\n",
    "    print(\"assertion is false\")"
   ]
  },
  {
   "cell_type": "code",
   "execution_count": 8,
   "id": "474b6fe1-a2e9-4185-8029-a31c4865b623",
   "metadata": {
    "tags": []
   },
   "outputs": [],
   "source": [
    "# wap that takes two value from user and returns division of first from second."
   ]
  },
  {
   "cell_type": "code",
   "execution_count": 12,
   "id": "7f1497eb-91ed-4a43-8015-a6018b99d452",
   "metadata": {
    "tags": []
   },
   "outputs": [
    {
     "name": "stdin",
     "output_type": "stream",
     "text": [
      "enter number 1 12\n",
      "enter number 2 15\n"
     ]
    },
    {
     "name": "stdout",
     "output_type": "stream",
     "text": [
      "division of 12/15 is 0.8\n"
     ]
    }
   ],
   "source": [
    "a = int(input(\"enter number 1\"))\n",
    "b = int(input(\"enter number 2\"))\n",
    "\n",
    "def div(a,b):\n",
    "    assert b !=0\n",
    "    return a/b\n",
    "print(f\"division of {a}/{b} is {div(a,b)}\")"
   ]
  },
  {
   "cell_type": "code",
   "execution_count": null,
   "id": "4c3f2908-374d-485f-8a96-9eb8d79f5a44",
   "metadata": {},
   "outputs": [],
   "source": []
  }
 ],
 "metadata": {
  "kernelspec": {
   "display_name": "Python 3 (ipykernel)",
   "language": "python",
   "name": "python3"
  },
  "language_info": {
   "codemirror_mode": {
    "name": "ipython",
    "version": 3
   },
   "file_extension": ".py",
   "mimetype": "text/x-python",
   "name": "python",
   "nbconvert_exporter": "python",
   "pygments_lexer": "ipython3",
   "version": "3.11.7"
  }
 },
 "nbformat": 4,
 "nbformat_minor": 5
}
