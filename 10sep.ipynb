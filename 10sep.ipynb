{
 "cells": [
  {
   "cell_type": "code",
   "execution_count": 3,
   "id": "0567a565-585f-48dd-b1b6-99ac6cc21885",
   "metadata": {
    "tags": []
   },
   "outputs": [
    {
     "data": {
      "text/plain": [
       "30"
      ]
     },
     "execution_count": 3,
     "metadata": {},
     "output_type": "execute_result"
    }
   ],
   "source": [
    "# Lambda,map,filter list comprehension\n",
    "# function to add two variables.\n",
    "\n",
    "def myadd1(a,b):\n",
    "    res = a+b\n",
    "    return res\n",
    "\n",
    "a=10\n",
    "b=20\n",
    "res = myadd1(a,b)\n",
    "res"
   ]
  },
  {
   "cell_type": "code",
   "execution_count": 7,
   "id": "d3ceb668-7923-46eb-b91e-f7fdd41e0dd3",
   "metadata": {
    "tags": []
   },
   "outputs": [
    {
     "name": "stdout",
     "output_type": "stream",
     "text": [
      "8\n",
      "[1, 4, 9, 16]\n"
     ]
    }
   ],
   "source": [
    "add = lambda a, b: a + b\n",
    "print(add(3, 5))\n",
    "\n",
    "number = [1, 2, 3, 4]\n",
    "squared = map(lambda x: x * x, number)\n",
    "print(list(squared))"
   ]
  },
  {
   "cell_type": "code",
   "execution_count": 9,
   "id": "43259e38-0e1f-46b7-9eed-823803b89573",
   "metadata": {
    "tags": []
   },
   "outputs": [],
   "source": [
    "# write a program to multiply two variable using lambda function."
   ]
  },
  {
   "cell_type": "code",
   "execution_count": 11,
   "id": "81f86714-2214-42ef-bccb-414871b7b8de",
   "metadata": {
    "tags": []
   },
   "outputs": [
    {
     "name": "stdout",
     "output_type": "stream",
     "text": [
      "The result of multiplication is: 15\n"
     ]
    }
   ],
   "source": [
    "multiply = lambda x, y: x * y\n",
    "\n",
    "result = multiply(5, 3)\n",
    "print(\"The result of multiplication is:\", result)\n"
   ]
  },
  {
   "cell_type": "code",
   "execution_count": 13,
   "id": "2640a9ca-a253-4e3a-ac42-eb33e02c4116",
   "metadata": {
    "tags": []
   },
   "outputs": [],
   "source": [
    "# write a program to square each number in a list without using map and lambda function."
   ]
  },
  {
   "cell_type": "code",
   "execution_count": 17,
   "id": "633b0ca0-4718-4e77-a9c7-9e63eead4325",
   "metadata": {
    "tags": []
   },
   "outputs": [
    {
     "name": "stdout",
     "output_type": "stream",
     "text": [
      "Original numbers: [1, 2, 3, 4, 5]\n",
      "Squared numbers: [1, 4, 9, 16, 25]\n"
     ]
    }
   ],
   "source": [
    "\n",
    "numbers = [1, 2, 3, 4, 5]\n",
    "\n",
    "\n",
    "squared_numbers = []\n",
    "for number in numbers:\n",
    "    squared_numbers.append(number ** 2)\n",
    "\n",
    "# Print the result\n",
    "print(\"Original numbers:\", numbers)\n",
    "print(\"Squared numbers:\", squared_numbers)\n"
   ]
  },
  {
   "cell_type": "code",
   "execution_count": 23,
   "id": "40aec5fb-9d37-498a-b364-cc69a522fa0c",
   "metadata": {
    "tags": []
   },
   "outputs": [],
   "source": [
    "# wap to create a list of square of even number from 0 to 9."
   ]
  },
  {
   "cell_type": "code",
   "execution_count": 21,
   "id": "585bb2c6-6a44-4302-8e90-f3cf947e7319",
   "metadata": {
    "tags": []
   },
   "outputs": [
    {
     "name": "stdout",
     "output_type": "stream",
     "text": [
      "Squares of even numbers from 0 to 9: [0, 4, 16, 36, 64]\n"
     ]
    }
   ],
   "source": [
    "squared_evens = []\n",
    "for number in range(10):\n",
    "    if number % 2 == 0:\n",
    "        # Square the number and append it to the squared_evens list\n",
    "        squared_evens.append(number ** 2)\n",
    "print(\"Squares of even numbers from 0 to 9:\", squared_evens)\n"
   ]
  },
  {
   "cell_type": "code",
   "execution_count": 27,
   "id": "64f8bcf6-19e5-4f03-ac13-e7cac41ca5bd",
   "metadata": {
    "tags": []
   },
   "outputs": [
    {
     "name": "stdout",
     "output_type": "stream",
     "text": [
      "[0, 4, 16, 36, 64]\n"
     ]
    }
   ],
   "source": [
    "# list comprehension\n",
    "\n",
    "squares = [i ** 2 for i in range(10) if i % 2 == 0]\n",
    "print(squares)"
   ]
  },
  {
   "cell_type": "code",
   "execution_count": 29,
   "id": "08058ded-ec42-4165-978a-fe8876f0e794",
   "metadata": {
    "tags": []
   },
   "outputs": [],
   "source": [
    "# write a program that contain a list containing sap id and return a list of email address."
   ]
  },
  {
   "cell_type": "code",
   "execution_count": 35,
   "id": "8d302c73-fa55-43a9-8be2-ae3585ff6f5c",
   "metadata": {
    "tags": []
   },
   "outputs": [
    {
     "name": "stdout",
     "output_type": "stream",
     "text": [
      "Email addresses: [' 590014968 kalasaurabh0@gmail.com']\n"
     ]
    }
   ],
   "source": [
    "\n",
    "sap_ids = [' 590014968 ']\n",
    "email_domain = 'kalasaurabh0@gmail.com'\n",
    "\n",
    "email_addresses = []\n",
    "for sap_id in sap_ids:\n",
    "    \n",
    "    email = sap_id + email_domain\n",
    "    email_addresses.append(email)\n",
    "print(\"Email addresses:\", email_addresses)\n"
   ]
  }
 ],
 "metadata": {
  "kernelspec": {
   "display_name": "Python 3 (ipykernel)",
   "language": "python",
   "name": "python3"
  },
  "language_info": {
   "codemirror_mode": {
    "name": "ipython",
    "version": 3
   },
   "file_extension": ".py",
   "mimetype": "text/x-python",
   "name": "python",
   "nbconvert_exporter": "python",
   "pygments_lexer": "ipython3",
   "version": "3.11.7"
  }
 },
 "nbformat": 4,
 "nbformat_minor": 5
}
