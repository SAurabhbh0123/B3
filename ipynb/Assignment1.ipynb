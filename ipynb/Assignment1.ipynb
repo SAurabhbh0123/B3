{
 "cells": [
  {
   "cell_type": "code",
   "execution_count": 1,
   "id": "17c89b8c-50c8-4991-a20d-db198d0c508e",
   "metadata": {
    "tags": []
   },
   "outputs": [],
   "source": [
    "# Write a Python script that prints your name, course name, and the Python version you're using."
   ]
  },
  {
   "cell_type": "code",
   "execution_count": 5,
   "id": "53fe3746-423f-40ac-8bea-515252f7bea5",
   "metadata": {
    "tags": []
   },
   "outputs": [
    {
     "name": "stdout",
     "output_type": "stream",
     "text": [
      "Name: Saurabh Kala\n",
      "Course: MCA with specialization in Data Science\n",
      "Python Version: 3.11.7\n"
     ]
    }
   ],
   "source": [
    "import platform\n",
    "name = \"Saurabh Kala\"  # putting the value\n",
    "course = \"MCA with specialization in Data Science\"\n",
    "\n",
    "print(\"Name:\", name)\n",
    "print(\"Course:\", course)\n",
    "print(\"Python Version:\", platform.python_version())"
   ]
  },
  {
   "cell_type": "code",
   "execution_count": 13,
   "id": "4e939dac-ed03-45ff-be06-77b48c422cf3",
   "metadata": {
    "tags": []
   },
   "outputs": [],
   "source": [
    "# Write a Python program that takes a user's first and last name as input and prints them in reverse order with a space between them."
   ]
  },
  {
   "cell_type": "code",
   "execution_count": null,
   "id": "cf0b980d-4a1f-4d82-9b2a-6ec035a47176",
   "metadata": {},
   "outputs": [
    {
     "name": "stdin",
     "output_type": "stream",
     "text": [
      "Enter your first name Saurabh\n",
      "Enter your last name Kala\n"
     ]
    },
    {
     "name": "stdout",
     "output_type": "stream",
     "text": [
      "Kala Saurabh\n"
     ]
    }
   ],
   "source": [
    "First_name = input(\"Enter your first name\")\n",
    "Last_name = input(\"Enter your last name\")\n",
    "print(Last_name +\" \"+ First_name)"
   ]
  },
  {
   "cell_type": "code",
   "execution_count": 22,
   "id": "86ac5321-b79c-4794-95c4-200c3a80d238",
   "metadata": {
    "tags": []
   },
   "outputs": [],
   "source": [
    "# Write a Python program that takes an input number from the user, converts it to different numeric data types (integer, float, and complex), and displays the converted values."
   ]
  },
  {
   "cell_type": "code",
   "execution_count": null,
   "id": "890c37a1-5b70-4c30-b871-b8d05eb7b3c1",
   "metadata": {},
   "outputs": [],
   "source": [
    "# Explain the difference between these data types in comments."
   ]
  },
  {
   "cell_type": "code",
   "execution_count": 28,
   "id": "51cc5f29-8c84-44e2-a133-03cafce7e95b",
   "metadata": {
    "tags": []
   },
   "outputs": [
    {
     "name": "stdin",
     "output_type": "stream",
     "text": [
      "Enter a number  25\n"
     ]
    },
    {
     "name": "stdout",
     "output_type": "stream",
     "text": [
      "Integer Value 25\n",
      "Float Value 25.0\n",
      "Complex Value (25+0j)\n"
     ]
    }
   ],
   "source": [
    "# I am taking the input from the user.\n",
    "user_input = input(\"Enter a number \")\n",
    "\n",
    "# converting the user_input to different data type\n",
    "integer_value = int(float(user_input))  # Represent whole numbers without a fractional component.\n",
    "float_value = float(user_input)  # Represent numbers with a decimal point.      \n",
    "complex_value = complex(user_input) # Represent number in the form of a + bj 'a' is the real part and 'b' is the imaginary part.\n",
    "print(\"Integer Value\", integer_value)\n",
    "print(\"Float Value\", float_value)\n",
    "print(\"Complex Value\", complex_value)"
   ]
  },
  {
   "cell_type": "code",
   "execution_count": 30,
   "id": "9fed605f-bee9-4a71-a328-befe8cea56dc",
   "metadata": {
    "tags": []
   },
   "outputs": [],
   "source": [
    "# Create a Python script that calculates the area of a rectangle. The script should:\n",
    "#Prompt the user to enter the length and width of the rectangle.Calculate the area."
   ]
  },
  {
   "cell_type": "code",
   "execution_count": 32,
   "id": "1f03548e-1d10-4635-8cea-ca8bca7a8f2b",
   "metadata": {
    "tags": []
   },
   "outputs": [
    {
     "name": "stdin",
     "output_type": "stream",
     "text": [
      "Enter the length of rectangle  15\n",
      "Enter the width of rectangle  10\n"
     ]
    },
    {
     "name": "stdout",
     "output_type": "stream",
     "text": [
      "150\n"
     ]
    }
   ],
   "source": [
    "Length=int(input(\"Enter the length of rectangle \"))\n",
    "Width=int(input(\"Enter the width of rectangle \"))\n",
    "area= Length*Width\n",
    "print(area)"
   ]
  },
  {
   "cell_type": "code",
   "execution_count": null,
   "id": "b7d3fb0e-c21e-474a-899c-61a169691896",
   "metadata": {},
   "outputs": [],
   "source": [
    "# Modify the rectangle area program to format the output so that it displays the area with two decimal places."
   ]
  },
  {
   "cell_type": "code",
   "execution_count": 34,
   "id": "6fed2cbb-e190-461e-ad5c-c5c0ed52276e",
   "metadata": {
    "tags": []
   },
   "outputs": [
    {
     "name": "stdin",
     "output_type": "stream",
     "text": [
      "Enter the length of rectangle  15\n",
      "Enter the width of rectangle  20\n"
     ]
    },
    {
     "name": "stdout",
     "output_type": "stream",
     "text": [
      "The area of rectangle is 300.00\n"
     ]
    }
   ],
   "source": [
    "# using format string method in python for the above code.\n",
    "Length=int(input(\"Enter the length of rectangle \"))\n",
    "Width=int(input(\"Enter the width of rectangle \"))\n",
    "area= Length*Width\n",
    "print(f\"The area of rectangle is {area:.2f}\")"
   ]
  },
  {
   "cell_type": "code",
   "execution_count": 36,
   "id": "bba78c25-0684-4787-a0fd-3e63882a6800",
   "metadata": {
    "tags": []
   },
   "outputs": [],
   "source": [
    "# Write a Python script that takes three numbers as input and prints their average using the % method for string formatting.\n",
    "# Also, use the print function to display a message that states, \"The average of the three numbers is: [calculated average]\"."
   ]
  },
  {
   "cell_type": "code",
   "execution_count": 3,
   "id": "a1d2468d-c87a-4910-acbf-e271dde17f3d",
   "metadata": {},
   "outputs": [
    {
     "name": "stdin",
     "output_type": "stream",
     "text": [
      "Enter the first number 25\n",
      "Enter the second number 35\n",
      "Enter the third number 55\n"
     ]
    },
    {
     "name": "stdout",
     "output_type": "stream",
     "text": [
      "The average of the three numbers is: 38.33\n"
     ]
    }
   ],
   "source": [
    "num1 = int(input(\"Enter the first number\"))\n",
    "num2 = int(input(\"Enter the second number\"))\n",
    "num3 = int(input(\"Enter the third number\"))\n",
    "# Calculate the average\n",
    "calculate_average = (num1 + num2 + num3) / 3\n",
    "print(f\"The average of the three numbers is: %.2f\" % calculate_average)"
   ]
  },
  {
   "cell_type": "code",
   "execution_count": 5,
   "id": "200e16b6-e7d2-436d-90ba-c3faf81272c2",
   "metadata": {
    "tags": []
   },
   "outputs": [],
   "source": [
    "# Write a python program that ask the user for a number and determine whether it is postive,negative or zero"
   ]
  },
  {
   "cell_type": "code",
   "execution_count": 7,
   "id": "700d574e-3f97-461a-a650-af0babe98b99",
   "metadata": {
    "tags": []
   },
   "outputs": [
    {
     "name": "stdin",
     "output_type": "stream",
     "text": [
      "Enter a number:  21\n"
     ]
    },
    {
     "name": "stdout",
     "output_type": "stream",
     "text": [
      "The number is positive\n"
     ]
    }
   ],
   "source": [
    "num = float(input(\"Enter a number: \"))\n",
    "if num > 0: #check the no is positive,negative or zero\n",
    "    print(\"The number is positive\")\n",
    "elif num < 0:\n",
    "    print(\"The number is negative\")\n",
    "else:\n",
    "    print(\"The number is zero\")"
   ]
  },
  {
   "cell_type": "code",
   "execution_count": 9,
   "id": "0b1a038c-58b0-4274-885b-a3d43dfdb728",
   "metadata": {
    "tags": []
   },
   "outputs": [],
   "source": [
    "#Implement a loop that continues to ask the user for a number until they enter exit use break to exit the loop and continue to prompt for a new number if the input is not exits"
   ]
  },
  {
   "cell_type": "code",
   "execution_count": 11,
   "id": "9b47af02-b3bb-4f50-b5de-2ee182a49956",
   "metadata": {
    "tags": []
   },
   "outputs": [
    {
     "name": "stdin",
     "output_type": "stream",
     "text": [
      "Enter a number (or type 'exit' to quit)  30\n"
     ]
    },
    {
     "name": "stdout",
     "output_type": "stream",
     "text": [
      "The number is positive.\n"
     ]
    },
    {
     "name": "stdin",
     "output_type": "stream",
     "text": [
      "Enter a number (or type 'exit' to quit)  -13\n"
     ]
    },
    {
     "name": "stdout",
     "output_type": "stream",
     "text": [
      "The number is negative.\n"
     ]
    },
    {
     "name": "stdin",
     "output_type": "stream",
     "text": [
      "Enter a number (or type 'exit' to quit)  0\n"
     ]
    },
    {
     "name": "stdout",
     "output_type": "stream",
     "text": [
      "The number is zero.\n"
     ]
    },
    {
     "name": "stdin",
     "output_type": "stream",
     "text": [
      "Enter a number (or type 'exit' to quit)  exit\n"
     ]
    },
    {
     "name": "stdout",
     "output_type": "stream",
     "text": [
      "Exiting the program.\n"
     ]
    }
   ],
   "source": [
    "while True:\n",
    "    user_input = input(\"Enter a number (or type 'exit' to quit) \")\n",
    "\n",
    "    # Check if the user wants to exit\n",
    "    if user_input.lower() == 'exit':\n",
    "        print(\"Exiting the program.\")\n",
    "        break\n",
    "\n",
    "    # Try to convert the input to a float\n",
    "    # we will use exception handling , bcoz user can also different input\n",
    "    try:\n",
    "        number = float(user_input)\n",
    "        \n",
    "        # checking \n",
    "        if number > 0:\n",
    "            print(\"The number is positive.\")\n",
    "        elif number < 0:\n",
    "            print(\"The number is negative.\")\n",
    "        else:\n",
    "            print(\"The number is zero.\")\n",
    "    except ValueError:\n",
    "        print(\"Please enter a valid number or 'exit' to quit.\")"
   ]
  },
  {
   "cell_type": "code",
   "execution_count": 13,
   "id": "68712b73-7279-4955-b96c-f4cf4d1e62c2",
   "metadata": {
    "tags": []
   },
   "outputs": [],
   "source": [
    "# Create a python script that takes two number as input and print whether both numbers are even or odd or one of each using relational and logical operators"
   ]
  },
  {
   "cell_type": "code",
   "execution_count": 15,
   "id": "0e0f8ac5-0d99-4d8b-8c9a-f307bf9e8608",
   "metadata": {
    "tags": []
   },
   "outputs": [
    {
     "name": "stdin",
     "output_type": "stream",
     "text": [
      "Enter the first number  15\n",
      "Enter the second number  20\n"
     ]
    },
    {
     "name": "stdout",
     "output_type": "stream",
     "text": [
      "One number is even and the other is odd\n"
     ]
    }
   ],
   "source": [
    "num1 = int(input(\"Enter the first number \"))\n",
    "num2 = int(input(\"Enter the second number \"))\n",
    "\n",
    "# Checking  if both numbers are even or odd\n",
    "if num1 % 2 == 0 and num2 % 2 == 0:\n",
    "    print(\"Both numbers are even\")\n",
    "elif num1 % 2 != 0 and num2 % 2 != 0:\n",
    "    print(\"Both numbers are odd\")\n",
    "else:\n",
    "    print(\"One number is even and the other is odd\")"
   ]
  },
  {
   "cell_type": "code",
   "execution_count": 17,
   "id": "8354141e-904b-4b6a-b940-06b0c6ba6ec1",
   "metadata": {
    "tags": []
   },
   "outputs": [],
   "source": [
    "# Write a python program that takes an integer input and prints its binary,octal and hexadecimal equivalents using a for loop and bitwise operators."
   ]
  },
  {
   "cell_type": "code",
   "execution_count": 19,
   "id": "f4347793-320d-4f4d-b8f7-3a79d9b0770f",
   "metadata": {
    "tags": []
   },
   "outputs": [
    {
     "name": "stdin",
     "output_type": "stream",
     "text": [
      "Enter an integer  355\n"
     ]
    },
    {
     "name": "stdout",
     "output_type": "stream",
     "text": [
      "Binary: 101100011\n",
      "Octal: 543\n",
      "Hexadecimal: 163\n"
     ]
    }
   ],
   "source": [
    "number = int(input(\"Enter an integer \"))\n",
    "\n",
    "# Initialize variables for binary, octal, and hexadecimal representations\n",
    "binary = \"\"\n",
    "octal = \"\"\n",
    "hexadecimal = \"\"\n",
    "\n",
    "# Calculate binary representation using bitwise operators\n",
    "for i in range(31, -1, -1):  # Assuming 32 bits for the integer\n",
    "    # Check if the ith bit is set\n",
    "    if number & (1 << i):\n",
    "        binary += \"1\"\n",
    "    else:\n",
    "        binary += \"0\"\n",
    "\n",
    "# Remove leading zeros for binary representation\n",
    "binary = binary.lstrip(\"0\") or \"0\"\n",
    "\n",
    "# Calculate octal representation using bitwise operators\n",
    "temp_number = number\n",
    "while temp_number > 0:\n",
    "    octal_digit = temp_number & 7  # Get the last three bits\n",
    "    octal = str(octal_digit) + octal\n",
    "    temp_number >>= 3  # Right shift by 3 to move to the next group of bits\n",
    "\n",
    "# If the input number is 0, ensure the octal representation is \"0\"\n",
    "if not octal:\n",
    "    octal = \"0\"\n",
    "\n",
    "# Calculate hexadecimal representation using bitwise operators\n",
    "temp_number = number\n",
    "while temp_number > 0:\n",
    "    hex_digit = temp_number & 15  # Get the last four bits\n",
    "    # Convert to hexadecimal character\n",
    "    if hex_digit < 10:\n",
    "        hexadecimal = str(hex_digit) + hexadecimal\n",
    "    else:\n",
    "        hexadecimal = chr(ord('A') + hex_digit - 10) + hexadecimal_representation\n",
    "    temp_number >>= 4  # Right shift by 4 to move to the next group of bits\n",
    "\n",
    "# If the input number is 0, ensure the hexadecimal representation is \"0\"\n",
    "if not hexadecimal:\n",
    "    hexadecimal = \"0\"\n",
    "\n",
    "# Print the results\n",
    "print(f\"Binary: {binary}\")\n",
    "print(f\"Octal: {octal}\")\n",
    "print(f\"Hexadecimal: {hexadecimal}\")"
   ]
  },
  {
   "cell_type": "code",
   "execution_count": null,
   "id": "94bf1053-50d8-447c-8825-1fa434c52c42",
   "metadata": {},
   "outputs": [],
   "source": []
  }
 ],
 "metadata": {
  "kernelspec": {
   "display_name": "Python 3 (ipykernel)",
   "language": "python",
   "name": "python3"
  },
  "language_info": {
   "codemirror_mode": {
    "name": "ipython",
    "version": 3
   },
   "file_extension": ".py",
   "mimetype": "text/x-python",
   "name": "python",
   "nbconvert_exporter": "python",
   "pygments_lexer": "ipython3",
   "version": "3.11.7"
  }
 },
 "nbformat": 4,
 "nbformat_minor": 5
}
