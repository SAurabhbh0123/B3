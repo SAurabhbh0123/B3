{
 "cells": [
  {
   "cell_type": "code",
   "execution_count": 7,
   "id": "5b34c495-0a44-4529-951e-0d0b3422ad99",
   "metadata": {
    "tags": []
   },
   "outputs": [],
   "source": [
    "# wap that takes directory address from user and organise filed into corresponding folders."
   ]
  },
  {
   "cell_type": "code",
   "execution_count": null,
   "id": "f88d343b-cdaa-4607-8c22-7d8b0a0b0950",
   "metadata": {},
   "outputs": [],
   "source": [
    "import os\n",
    "import shutil\n",
    "\n",
    "def organize_files(directory):\n",
    "    # Check if the directory exists\n",
    "    if not os.path.isdir(directory):\n",
    "        print(f\"The directory '{directory}' does not exist.\")\n",
    "        return\n",
    "    \n",
    "    # Iterate over the files in the directory\n",
    "    for filename in os.listdir(directory):\n",
    "        file_path = os.path.join(directory, filename)\n",
    "        \n",
    "        # Skip directories\n",
    "        if os.path.isdir(file_path):\n",
    "            continue\n",
    "        \n",
    "        # Get the file extension and create a folder for it if necessary\n",
    "        file_extension = filename.split('.')[-1] if '.' in filename else 'No_extension'\n",
    "        folder_path = os.path.join(directory, file_extension)\n",
    "        \n",
    "        if not os.path.exists(folder_path):\n",
    "            os.makedirs(folder_path)\n",
    "        \n",
    "        # Move the file to the corresponding folder\n",
    "        shutil.move(file_path, os.path.join(folder_path, filename))\n",
    "    \n",
    "    print(\"Files have been organized.\")\n",
    "\n",
    "if __name__ == \"__main__\":\n",
    "    # Prompt user for the directory path\n",
    "    directory = input(\"Enter the directory path to organize: \")\n",
    "    organize_files(directory)\n"
   ]
  },
  {
   "cell_type": "code",
   "execution_count": null,
   "id": "a5534fc3-64ed-4ff5-b8c9-fda257b43398",
   "metadata": {},
   "outputs": [],
   "source": []
  }
 ],
 "metadata": {
  "kernelspec": {
   "display_name": "Python 3 (ipykernel)",
   "language": "python",
   "name": "python3"
  },
  "language_info": {
   "codemirror_mode": {
    "name": "ipython",
    "version": 3
   },
   "file_extension": ".py",
   "mimetype": "text/x-python",
   "name": "python",
   "nbconvert_exporter": "python",
   "pygments_lexer": "ipython3",
   "version": "3.11.7"
  }
 },
 "nbformat": 4,
 "nbformat_minor": 5
}
